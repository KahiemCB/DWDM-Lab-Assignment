{
  "cells": [
    {
      "metadata": {
        "_uuid": "8f2839f25d086af736a60e9eeb907d3b93b6e0e5",
        "_cell_guid": "b1076dfc-b9ad-4769-8c92-a6c4dae69d19",
        "trusted": true
      },
      "cell_type": "code",
      "source": "# This Python 3 environment comes with many helpful analytics libraries installed\n# It is defined by the kaggle/python docker image: https://github.com/kaggle/docker-python\n# For example, here's several helpful packages to load in \n\nimport numpy as np # linear algebra\nimport pandas as pd # data processing, CSV file I/O (e.g. pd.read_csv)\nimport matplotlib.pyplot as plt\nimport seaborn as sns\n%matplotlib inline\n\n# Input data files are available in the \"../input/\" directory.\n# For example, running this (by clicking run or pressing Shift+Enter) will list the files in the input directory\n\nimport os\nprint(os.listdir(\"../input\"))\n\n# Any results you write to the current directory are saved as output.",
      "execution_count": null,
      "outputs": []
    },
    {
      "metadata": {
        "_cell_guid": "79c7e3d0-c299-4dcb-8224-4455121ee9b0",
        "_uuid": "d629ff2d2480ee46fbb7e2d37f6b5fab8052498a",
        "trusted": true
      },
      "cell_type": "code",
      "source": "data_path = '../input/hr_data.csv' # Path to data file\ndata = pd.read_csv(data_path) \ndata.head(15)",
      "execution_count": null,
      "outputs": []
    },
    {
      "metadata": {
        "trusted": true,
        "_uuid": "6de6ffc5cdf837e71884e0a82b6a4d740b6b5bca"
      },
      "cell_type": "code",
      "source": "data.columns",
      "execution_count": null,
      "outputs": []
    },
    {
      "metadata": {
        "trusted": true,
        "_uuid": "e714f29ce749fb754c3968d7894af457085c5908"
      },
      "cell_type": "code",
      "source": "data.describe()",
      "execution_count": null,
      "outputs": []
    },
    {
      "metadata": {
        "trusted": true,
        "_uuid": "12df936eb9b730c2a9e2a4dd2af741b2a2abd654"
      },
      "cell_type": "code",
      "source": "data['time_spend_company'].value_counts().plot(kind='bar')",
      "execution_count": null,
      "outputs": []
    },
    {
      "metadata": {
        "trusted": true,
        "_uuid": "cb5c8d26dbb1f7968f076d63f350e42239563430"
      },
      "cell_type": "code",
      "source": "for col in data.columns[2:3]:\n    data[col].plot(kind='box')\n    plt.title('Box plot for '+col)\n    plt.show()",
      "execution_count": null,
      "outputs": []
    },
    {
      "metadata": {
        "trusted": true,
        "_uuid": "2f1cf5ba125d99975f48457d3d286851ad73cd7b"
      },
      "cell_type": "code",
      "source": "cluster_data =  data[['satisfaction_level','number_project','time_spend_company']]\ncluster_data.head()",
      "execution_count": null,
      "outputs": []
    },
    {
      "metadata": {
        "trusted": true,
        "_uuid": "9714d39b905f155114e199e34eb25f45c506a4cf"
      },
      "cell_type": "code",
      "source": "cluster_data.plot(kind='scatter',x='satisfaction_level',y='time_spend_company')",
      "execution_count": null,
      "outputs": []
    },
    {
      "metadata": {
        "trusted": true,
        "_uuid": "95c231c25b77bb078ddb66c74228e1596c425cd5"
      },
      "cell_type": "code",
      "source": "missing_data_results = cluster_data.isnull().sum()\nprint(missing_data_results)",
      "execution_count": null,
      "outputs": []
    },
    {
      "metadata": {
        "trusted": true,
        "_uuid": "f6b4fef2577ab65a779925226d78b59e5330984f"
      },
      "cell_type": "code",
      "source": "data_values = cluster_data.iloc[:,:].values\ndata_values",
      "execution_count": null,
      "outputs": []
    },
    {
      "metadata": {
        "trusted": true,
        "_uuid": "12cb48d1ab801727a256cfec711681f7260055ba"
      },
      "cell_type": "code",
      "source": "from sklearn.cluster import KMeans ",
      "execution_count": null,
      "outputs": []
    },
    {
      "metadata": {
        "trusted": true,
        "_uuid": "a27ed2f0e903b4c1396049cc16b05f2669680955"
      },
      "cell_type": "code",
      "source": "# Use the Elbow method to find a good number of clusters using WCSS (within-cluster sums of squares)\nwcss = []\nfor i in range( 1, 15 ):\n    kmeans = KMeans(n_clusters=i, init=\"k-means++\", n_init=10, max_iter=300) \n    kmeans.fit_predict( data_values )\n    wcss.append( kmeans.inertia_ )\n    \nplt.plot( wcss, 'ro-', label=\"WCSS\")\nplt.title(\"Computing WCSS for KMeans++\")\nplt.xlabel(\"Number of clusters\")\nplt.ylabel(\"WCSS\")\nplt.show()",
      "execution_count": null,
      "outputs": []
    },
    {
      "metadata": {
        "trusted": true,
        "_uuid": "86c08bd46dfe6b5455305863fd017a9422fa3b04"
      },
      "cell_type": "code",
      "source": "kmeans = KMeans(n_clusters=5, init=\"k-means++\", n_init=10, max_iter=300) \ncluster_data[\"cluster\"] = kmeans.fit_predict( data_values )\ncluster_data",
      "execution_count": null,
      "outputs": []
    },
    {
      "metadata": {
        "trusted": true,
        "_uuid": "cd2eca1ab623058eaab5504e7b9533affdcd9293"
      },
      "cell_type": "code",
      "source": "cluster_data['cluster'].value_counts()",
      "execution_count": null,
      "outputs": []
    },
    {
      "metadata": {
        "trusted": true,
        "_uuid": "bdffd83c68fa2c5d99eca44d6e8058df138ad484"
      },
      "cell_type": "code",
      "source": "cluster_data['cluster'].value_counts().plot(kind='bar',title='Distribution of Customers across groups')",
      "execution_count": null,
      "outputs": []
    },
    {
      "metadata": {
        "trusted": true,
        "_uuid": "5bec79d71b07c51ab9f004ed325574eea11e7016"
      },
      "cell_type": "code",
      "source": "sns.pairplot( cluster_data, hue=\"cluster\")",
      "execution_count": null,
      "outputs": []
    },
    {
      "metadata": {
        "trusted": true,
        "_uuid": "8f5c88b12053c8ad702631329aebd55249b74dec"
      },
      "cell_type": "code",
      "source": "",
      "execution_count": null,
      "outputs": []
    }
  ],
  "metadata": {
    "kernelspec": {
      "display_name": "Python 3",
      "language": "python",
      "name": "python3"
    },
    "language_info": {
      "name": "python",
      "version": "3.6.6",
      "mimetype": "text/x-python",
      "codemirror_mode": {
        "name": "ipython",
        "version": 3
      },
      "pygments_lexer": "ipython3",
      "nbconvert_exporter": "python",
      "file_extension": ".py"
    }
  },
  "nbformat": 4,
  "nbformat_minor": 1
}