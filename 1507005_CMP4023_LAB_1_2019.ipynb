{
  "cells": [
    {
      "metadata": {
        "_uuid": "8f2839f25d086af736a60e9eeb907d3b93b6e0e5",
        "_cell_guid": "b1076dfc-b9ad-4769-8c92-a6c4dae69d19",
        "trusted": true
      },
      "cell_type": "code",
      "source": "# This Python 3 environment comes with many helpful analytics libraries installed\n# It is defined by the kaggle/python docker image: https://github.com/kaggle/docker-python\n# For example, here's several helpful packages to load in \n\nimport numpy as np # linear algebra\nimport pandas as pd # data processing, CSV file I/O (e.g. pd.read_csv)\nimport matplotlib.pyplot as plt\n%matplotlib inline\n\n# Input data files are available in the \"../input/\" directory.\n# For example, running this (by clicking run or pressing Shift+Enter) will list the files in the input directory\n\nimport os\nprint(os.listdir(\"../input\"))\n\n# Any results you write to the current directory are saved as output.",
      "execution_count": null,
      "outputs": []
    },
    {
      "metadata": {
        "_cell_guid": "79c7e3d0-c299-4dcb-8224-4455121ee9b0",
        "_uuid": "d629ff2d2480ee46fbb7e2d37f6b5fab8052498a",
        "trusted": true
      },
      "cell_type": "code",
      "source": "\ndata_path = '../input/crime_data_w_population_and_crime_rate.csv' # Path to data file\ndata = pd.read_csv(data_path) \ndata.head(15)",
      "execution_count": null,
      "outputs": []
    },
    {
      "metadata": {
        "trusted": true,
        "_uuid": "9fd4e1e278b2e5ca94215aeaed405a5e51115cd2"
      },
      "cell_type": "code",
      "source": "data.columns\n",
      "execution_count": null,
      "outputs": []
    },
    {
      "metadata": {
        "trusted": true,
        "_uuid": "3f21721bde13f1ce07fb7c7431dcc6a8567b2571"
      },
      "cell_type": "code",
      "source": "def create_label_encoder_dict(df):\n    from sklearn.preprocessing import LabelEncoder\n    \n    label_encoder_dict = {}\n    for column in df.columns:\n        # Only create encoder for categorical data types\n        if not np.issubdtype(df[column].dtype, np.number) and column != 'AG_ARRST':\n            label_encoder_dict[column]= LabelEncoder().fit(df[column])\n    return label_encoder_dict",
      "execution_count": null,
      "outputs": []
    },
    {
      "metadata": {
        "trusted": true,
        "_uuid": "400e0416fb3220018464f0ef0d22a1d09affb974"
      },
      "cell_type": "code",
      "source": "label_encoders = create_label_encoder_dict(data)\nprint(\"Encoded Values for each Label\")\nprint(\"=\"*32)\nfor column in label_encoders:\n    print(\"=\"*32)\n    print('Encoder(%s) = %s' % (column, label_encoders[column].classes_ ))\n    print(pd.DataFrame([range(0,len(label_encoders[column].classes_))], columns=label_encoders[column].classes_, index=['Encoded Values']  ).T)",
      "execution_count": null,
      "outputs": []
    },
    {
      "metadata": {
        "trusted": true,
        "_uuid": "af613508bfa1f0ee854781c558537e9753063203"
      },
      "cell_type": "code",
      "source": "# Apply each encoder to the data set to obtain transformed values\ndata2 = data.copy() # create copy of initial data set\nfor column in data2.columns:\n    if column in label_encoders:\n        data2[column] = label_encoders[column].transform(data2[column])\n\nprint(\"Transformed data set\")\nprint(\"=\"*32)\ndata2",
      "execution_count": null,
      "outputs": []
    },
    {
      "metadata": {
        "trusted": true,
        "_uuid": "defb206452690f93557c41978c68ca51bb3d6677"
      },
      "cell_type": "code",
      "source": "# separate our data into dependent (Y) and independent(X) variables\nX_data = data2[['RAPE', 'ROBBERY']]\nY_data = data2['AG_ARRST']",
      "execution_count": null,
      "outputs": []
    },
    {
      "metadata": {
        "trusted": true,
        "_uuid": "08b3efbe62ed77082f4131e17d4c80c38c63a7c4"
      },
      "cell_type": "code",
      "source": "from sklearn.model_selection import train_test_split \nX_train, X_test, y_train, y_test = train_test_split(X_data, Y_data, test_size=0.30)",
      "execution_count": null,
      "outputs": []
    },
    {
      "metadata": {
        "trusted": true,
        "_uuid": "fe7533442de98fcdb7193728dcd38a6cb4a275e9"
      },
      "cell_type": "code",
      "source": "# Import linear model package (has several regression classes)\nfrom sklearn import linear_model",
      "execution_count": null,
      "outputs": []
    },
    {
      "metadata": {
        "trusted": true,
        "_uuid": "48ad3f80c52718952a87c3bf0c18a032874f77c4"
      },
      "cell_type": "code",
      "source": "# Create an instance of linear regression\nreg = linear_model.LinearRegression()",
      "execution_count": null,
      "outputs": []
    },
    {
      "metadata": {
        "trusted": true,
        "_uuid": "f356636193bf39b4a9714569c5c1e521329e2c3f"
      },
      "cell_type": "code",
      "source": "\nreg.fit(X_train,y_train)",
      "execution_count": null,
      "outputs": []
    },
    {
      "metadata": {
        "trusted": true,
        "_uuid": "a757d313c618c457359ed903637cd7795054fb98"
      },
      "cell_type": "code",
      "source": "reg.coef_",
      "execution_count": null,
      "outputs": []
    },
    {
      "metadata": {
        "trusted": true,
        "_uuid": "284cc31c9bae772c316d4ea1e644f7869fc987eb"
      },
      "cell_type": "code",
      "source": "X_train.columns",
      "execution_count": null,
      "outputs": []
    },
    {
      "metadata": {
        "trusted": true,
        "_uuid": "1da49281434dd8441d7ac0c6947bd00f3a8db73f"
      },
      "cell_type": "code",
      "source": "print(\"Regression Coefficients\")\npd.DataFrame(reg.coef_,index=X_train.columns,columns=[\"Coefficient\"])",
      "execution_count": null,
      "outputs": []
    },
    {
      "metadata": {
        "trusted": true,
        "_uuid": "c9bdaf06374ab62d821b30d62707eb39071808d2"
      },
      "cell_type": "code",
      "source": "# Intercept\nreg.intercept_",
      "execution_count": null,
      "outputs": []
    },
    {
      "metadata": {
        "trusted": true,
        "_uuid": "7c994734569cefa4e4d7583f81c4f599d65a9394"
      },
      "cell_type": "code",
      "source": "# Make predictions using the testing set\ntest_predicted = reg.predict(X_test)\ntest_predicted",
      "execution_count": null,
      "outputs": []
    },
    {
      "metadata": {
        "trusted": true,
        "_uuid": "bbcf9f9cf7e36577e45dbf51c82c5c3385a02984"
      },
      "cell_type": "code",
      "source": "data3 = X_test.copy()\ndata3['predicted_AG_ARRST']=test_predicted\ndata3['AG_ARRST']=y_test\ndata3.head()",
      "execution_count": null,
      "outputs": []
    },
    {
      "metadata": {
        "trusted": true,
        "_uuid": "8fc3643723033f9ece9eb9cd5cd4d70ac297209f"
      },
      "cell_type": "code",
      "source": "from sklearn.metrics import mean_squared_error, r2_score",
      "execution_count": null,
      "outputs": []
    },
    {
      "metadata": {
        "trusted": true,
        "_uuid": "bc1d90e3faee5fd3f18d403189043fd514879305"
      },
      "cell_type": "code",
      "source": "# The mean squared error\nprint(\"Mean squared error: %.2f\" % mean_squared_error(y_test, test_predicted))",
      "execution_count": null,
      "outputs": []
    },
    {
      "metadata": {
        "trusted": true,
        "_uuid": "2e30cc9e5dbb19f6cf58db11b225c9f677714733"
      },
      "cell_type": "code",
      "source": "from sklearn.decomposition import PCA",
      "execution_count": null,
      "outputs": []
    },
    {
      "metadata": {
        "trusted": true,
        "_uuid": "e84e323e29bb68cd5b8d87ba74b992bd6fde5ce3"
      },
      "cell_type": "code",
      "source": "pca = PCA(n_components=1)",
      "execution_count": null,
      "outputs": []
    },
    {
      "metadata": {
        "trusted": true,
        "_uuid": "65f33f69ce570746265d0a98cde84096eed41cea"
      },
      "cell_type": "code",
      "source": "\npca.fit(data2[X_train.columns])",
      "execution_count": null,
      "outputs": []
    },
    {
      "metadata": {
        "trusted": true,
        "_uuid": "df5eb712c4ec8aedb2cbfc9204cffc4b5e59d812"
      },
      "cell_type": "code",
      "source": "pca.components_",
      "execution_count": null,
      "outputs": []
    },
    {
      "metadata": {
        "trusted": true,
        "_uuid": "9943a0f96a9656879c4b9d5d7a811a8d7dc349f5"
      },
      "cell_type": "code",
      "source": "pca.n_features_",
      "execution_count": null,
      "outputs": []
    },
    {
      "metadata": {
        "trusted": true,
        "_uuid": "b3f9986291eb0b26efeb53c4ce58fc30e1d96e94"
      },
      "cell_type": "code",
      "source": "pca.n_components_",
      "execution_count": null,
      "outputs": []
    },
    {
      "metadata": {
        "trusted": true,
        "_uuid": "d571228330b4453e1184c21ec09b0e5d1ca9a9b9"
      },
      "cell_type": "code",
      "source": "#Again :\nX_test",
      "execution_count": null,
      "outputs": []
    },
    {
      "metadata": {
        "trusted": true,
        "_uuid": "2e1731be806afc5c380148d6dd696a0bb45c70d0"
      },
      "cell_type": "code",
      "source": "X_reduced = pca.transform(X_test)\nX_reduced",
      "execution_count": null,
      "outputs": []
    },
    {
      "metadata": {
        "trusted": true,
        "_uuid": "2d5fbe78ec9b374ba253c0cfc233aace54e38d3a"
      },
      "cell_type": "code",
      "source": "\nplt.scatter(X_reduced, y_test,  color='black')\nplt.plot(X_reduced, test_predicted, color='blue',linewidth=1)\nplt.plot(X_reduced, test_predicted, color='red',linewidth=1)\n\n#plt.xticks(())\n#plt.yticks(())\n\nplt.show()",
      "execution_count": null,
      "outputs": []
    },
    {
      "metadata": {
        "trusted": true,
        "_uuid": "f655d812791cb9887e26ee77f222af6ac04a966a"
      },
      "cell_type": "code",
      "source": "plt.plot(y_test, test_predicted, 'ro-')",
      "execution_count": null,
      "outputs": []
    }
  ],
  "metadata": {
    "kernelspec": {
      "display_name": "Python 3",
      "language": "python",
      "name": "python3"
    },
    "language_info": {
      "name": "python",
      "version": "3.6.6",
      "mimetype": "text/x-python",
      "codemirror_mode": {
        "name": "ipython",
        "version": 3
      },
      "pygments_lexer": "ipython3",
      "nbconvert_exporter": "python",
      "file_extension": ".py"
    }
  },
  "nbformat": 4,
  "nbformat_minor": 1
}